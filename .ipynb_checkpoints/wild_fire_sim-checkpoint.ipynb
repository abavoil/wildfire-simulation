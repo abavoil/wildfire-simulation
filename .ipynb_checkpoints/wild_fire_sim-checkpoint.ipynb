{
 "cells": [
  {
   "cell_type": "markdown",
   "metadata": {},
   "source": [
    "# TODO:\n",
    "\n",
    "## object oriented\n",
    "  - simulation (N, x0, y0, r0, T_fire, min_fuel, max_fuel, mu, tf, T_init_fire), method simulate\n",
    "  - state (X, Y, dx, dy, dt, T, c, u, v), method visualize, défricher(x)\n",
    "  \n",
    "  \n",
    "```\n",
    "état: initialiser(params état initial)\n",
    "état: couper la forêt\n",
    "simulation: initialiser(état initial, paramètres simulation)\n",
    "simulation: simuler()\n",
    "simulation: observe (donne integrale de c) (OU simulation: visualizer)\n",
    "```\n",
    "\n",
    "f_c(x, params):\n",
    "    sim = Simulation(params)"
   ]
  },
  {
   "cell_type": "code",
   "execution_count": 16,
   "metadata": {
    "execution": {
     "iopub.execute_input": "2021-10-21T17:51:28.351787Z",
     "iopub.status.busy": "2021-10-21T17:51:28.351787Z",
     "iopub.status.idle": "2021-10-21T17:51:28.384427Z",
     "shell.execute_reply": "2021-10-21T17:51:28.383463Z",
     "shell.execute_reply.started": "2021-10-21T17:51:28.351787Z"
    },
    "tags": []
   },
   "outputs": [
    {
     "name": "stdout",
     "output_type": "stream",
     "text": [
      "The snakeviz extension is already loaded. To reload it, use:\n",
      "  %reload_ext snakeviz\n",
      "The line_profiler extension is already loaded. To reload it, use:\n",
      "  %reload_ext line_profiler\n"
     ]
    }
   ],
   "source": [
    "%load_ext snakeviz\n",
    "%load_ext line_profiler\n",
    "\n",
    "from dataclasses import dataclass, field, InitVar\n",
    "from typing import List\n",
    "from copy import deepcopy\n",
    "\n",
    "from IPython.display import clear_output\n",
    "import numpy as np\n",
    "import matplotlib as mpl\n",
    "from matplotlib import pyplot as plt"
   ]
  },
  {
   "cell_type": "code",
   "execution_count": 8,
   "metadata": {
    "execution": {
     "iopub.execute_input": "2021-10-21T17:34:31.347732Z",
     "iopub.status.busy": "2021-10-21T17:34:31.346731Z",
     "iopub.status.idle": "2021-10-21T17:34:31.360732Z",
     "shell.execute_reply": "2021-10-21T17:34:31.358768Z",
     "shell.execute_reply.started": "2021-10-21T17:34:31.347732Z"
    },
    "tags": []
   },
   "outputs": [],
   "source": [
    "mpl.rcParams[\"pcolor.shading\"] = \"nearest\""
   ]
  },
  {
   "cell_type": "markdown",
   "metadata": {},
   "source": [
    "# Simulation"
   ]
  },
  {
   "cell_type": "code",
   "execution_count": 9,
   "metadata": {
    "execution": {
     "iopub.execute_input": "2021-10-21T17:34:31.362735Z",
     "iopub.status.busy": "2021-10-21T17:34:31.361732Z",
     "iopub.status.idle": "2021-10-21T17:34:31.390733Z",
     "shell.execute_reply": "2021-10-21T17:34:31.389768Z",
     "shell.execute_reply.started": "2021-10-21T17:34:31.362735Z"
    },
    "tags": []
   },
   "outputs": [],
   "source": [
    "def disk(X, Y, x, y, r):\n",
    "    return (X - x)**2 + (Y - y)**2 <= r**2\n",
    "\n",
    "\n",
    "def rect(X, Y, xmin, xmax, ymin, ymax):\n",
    "    return np.logical_and.reduce((xmin < X, X < xmax, ymin < Y, Y < ymax))\n",
    "\n",
    "\n",
    "def viz(X, Y, T, c, u, v, title=\"\"):\n",
    "    %matplotlib inline\n",
    "    fuel = plt.pcolormesh(X, Y, c, cmap=plt.cm.YlGn, vmin=0, vmax=10)\n",
    "    fuel_cb = plt.colorbar(fuel)\n",
    "    fuel_cb.set_label(\"fuel\", loc=\"top\")\n",
    "    \n",
    "    fire = plt.pcolormesh(X, Y, np.ma.masked_where(np.abs(T) < T_fire, T), cmap=plt.cm.hot, vmin=0, vmax=5)\n",
    "    #fire_boundary = plt.contour(X, Y, T < T_fire, antialiased=False, levels=[.5], colors=\"r\")\n",
    "    fire_cb = plt.colorbar(fire)\n",
    "    fire_cb.set_label(\"fire\", loc=\"top\")\n",
    "    \n",
    "    n_arrows = 6\n",
    "    wind_ind = np.zeros(X.shape, dtype=bool)\n",
    "    wind_ind[::len(X) // n_arrows, ::len(X) // n_arrows] = True\n",
    "    plt.quiver(X[wind_ind], Y[wind_ind], u[wind_ind], v[wind_ind])\n",
    "    \n",
    "    plt.title(title)\n",
    "    plt.xlabel(\"x\")\n",
    "    plt.ylabel(\"y\")\n",
    "    clear_output(wait=True)\n",
    "    plt.show()"
   ]
  },
  {
   "cell_type": "code",
   "execution_count": 10,
   "metadata": {
    "execution": {
     "iopub.execute_input": "2021-10-21T17:34:31.392745Z",
     "iopub.status.busy": "2021-10-21T17:34:31.392745Z",
     "iopub.status.idle": "2021-10-21T17:34:31.406734Z",
     "shell.execute_reply": "2021-10-21T17:34:31.405770Z",
     "shell.execute_reply.started": "2021-10-21T17:34:31.392745Z"
    },
    "tags": []
   },
   "outputs": [],
   "source": [
    "# paramètres physique\n",
    "T_fire = .05\n",
    "min_fuel, max_fuel = 0, 10\n",
    "mu = 5e-3\n",
    "\n",
    "tf = 1.8  # temps final"
   ]
  },
  {
   "cell_type": "code",
   "execution_count": 11,
   "metadata": {
    "execution": {
     "iopub.execute_input": "2021-10-21T17:34:31.408734Z",
     "iopub.status.busy": "2021-10-21T17:34:31.408734Z",
     "iopub.status.idle": "2021-10-21T17:34:31.422735Z",
     "shell.execute_reply": "2021-10-21T17:34:31.421748Z",
     "shell.execute_reply.started": "2021-10-21T17:34:31.408734Z"
    },
    "tags": []
   },
   "outputs": [],
   "source": [
    "# paramètres de l'état initial\n",
    "N = 201\n",
    "x0 = y0 = .1\n",
    "r0 = .05\n",
    "T_init_fire = 5"
   ]
  },
  {
   "cell_type": "markdown",
   "metadata": {},
   "source": [
    "Champs scalaires :\n",
    " - T : température\n",
    " - c : combustible\n",
    " - b : brulé (booléen)\n",
    " \n",
    "Champ vectoriel:\n",
    " - V : vent"
   ]
  },
  {
   "cell_type": "code",
   "execution_count": 12,
   "metadata": {
    "execution": {
     "iopub.execute_input": "2021-10-21T17:34:31.425760Z",
     "iopub.status.busy": "2021-10-21T17:34:31.425760Z",
     "iopub.status.idle": "2021-10-21T17:34:32.029280Z",
     "shell.execute_reply": "2021-10-21T17:34:32.029280Z",
     "shell.execute_reply.started": "2021-10-21T17:34:31.425760Z"
    },
    "tags": []
   },
   "outputs": [],
   "source": [
    "def init(N: int, x0: float, y0: float, r0: float) -> \"X, Y, dx, dy, dt, T, c, u, v\":\n",
    "    \"\"\"make the variables at t=0\"\"\"\n",
    "    np.random.seed(0)\n",
    "    x, dx = y, dy = np.linspace(0, 1, N, retstep=True)\n",
    "    X, Y = np.meshgrid(x, y, indexing=\"ij\")\n",
    "\n",
    "    T = np.zeros(X.shape)\n",
    "    T[disk(X, Y, x0, y0, r0)] = T_init_fire\n",
    "\n",
    "    c = np.full(X.shape, 5.)\n",
    "    for i in range(5):\n",
    "        rr = np.random.uniform(0.1, 0.2)\n",
    "        xr = np.random.uniform(0.1, 0.9)\n",
    "        yr = np.random.uniform(0.1, 0.9)\n",
    "        valr = np.random.uniform(-5, 5)\n",
    "\n",
    "        c[disk(X, Y, xr, yr, rr)] = valr + c[disk(X, Y, xr, yr, rr)]\n",
    "    c = np.clip(c, min_fuel, max_fuel)\n",
    "\n",
    "    u = np.cos(np.pi * Y)\n",
    "    v = 0.6 * np.sin(np.pi / 2 * (X + 0.2))\n",
    "    \n",
    "    dt_c = min(dx, dy) / np.sqrt(u*u + v*v).max()\n",
    "    dt_d = 1/2 * min(dx, dy)**2 / mu\n",
    "    dt = min(dt_c, dt_d) / 4\n",
    "    \n",
    "    return X, Y, dx, dy, dt, T, c, u, v"
   ]
  },
  {
   "cell_type": "code",
   "execution_count": 19,
   "metadata": {
    "execution": {
     "iopub.execute_input": "2021-10-21T18:05:55.533885Z",
     "iopub.status.busy": "2021-10-21T18:05:55.533885Z",
     "iopub.status.idle": "2021-10-21T18:05:55.595113Z",
     "shell.execute_reply": "2021-10-21T18:05:55.594109Z",
     "shell.execute_reply.started": "2021-10-21T18:05:55.533885Z"
    },
    "tags": []
   },
   "outputs": [],
   "source": [
    " \n",
    "@dataclass\n",
    "class Forest:\n",
    "    N: int\n",
    "    T_fire: float\n",
    "    mu: float\n",
    "    X: np.ndarray = field(init=False)\n",
    "    Y: np.ndarray = field(init=False)\n",
    "    u: np.ndarray = field(init=False)\n",
    "    v: np.ndarray = field(init=False)\n",
    "    dx: float = field(init=False)\n",
    "    dt: float = field(init=False)\n",
    "    \n",
    "    def __post_init__(self):\n",
    "        x, self.dx = np.linspace(0, 1, self.N, retstep=True)\n",
    "        self.X, self.Y = np.meshgrid(x, y, indexing=\"ij\")\n",
    "        self.u = np.cos(np.pi * self.Y)\n",
    "        self.v = 0.6 * np.sin(np.pi / 2 * (self.X + 0.2))\n",
    "        \n",
    "        dt_c = dx / np.sqrt(u*u + v*v).max()\n",
    "        dt_d = dx*dx / (2 * mu)\n",
    "        self.dt = min(dt_c, dt_d) / 4\n",
    "\n",
    "\n",
    "@dataclass\n",
    "class SimulationState:\n",
    "    T: np.ndarray\n",
    "    c: np.ndarray\n",
    "    \n",
    "    def create_state(forest: Forest, x0: float, y0: float, r0: float, T_init_fire):\n",
    "        self.T = np.zeros(self.X.shape)\n",
    "        self.T[disk(self.X, self.Y, x0, y0, r0)] = T_init_fire\n",
    "        c = np.full(self.X.shape, 5.)\n",
    "        \n",
    "    def add_random(self, n_circles: int, rng: np.random.Generator = None, seed: int = None):\n",
    "        if rng is None:\n",
    "            rng = np.random.default_rng(seed)\n",
    "            \n",
    "        for i in range(n_circles):\n",
    "            rr = rng.uniform(0.1, 0.2)\n",
    "            xr = rng.uniform(0.1, 0.9)\n",
    "            yr = rng.uniform(0.1, 0.9)\n",
    "            valr = rng.uniform(-5, 5)\n",
    "            c[disk(X, Y, xr, yr, rr)] += valr\n",
    "        \n",
    "\n",
    "@dataclass\n",
    "class Simulation:\n",
    "    \"\"\"create simulation, simulate, get results\"\"\"\n",
    "    forest: Forest\n",
    "    initial_state: SimulationState\n",
    "    tf: float\n",
    "    max_iter: int\n",
    "    history: List[SimulationState] = field(init=False)\n",
    "\n",
    "    def simulate(self, record_every: int = None):\n",
    "        \"\"\"if record_every is None, keep only last state\"\"\"\n",
    "        state = deepcopy(self.initial_state)       \n",
    "        \n",
    "        self.history = []\n",
    "        for k, t in enumerate(np.arange(dt, tf + dt, dt)):\n",
    "            self._advance_simulation(state)\n",
    "            \n",
    "            if record_every is not None and k % record_every == 0:\n",
    "                self.history.append(deepcopy(state))\n",
    "\n",
    "            # critères d'arrêt\n",
    "            stop_msg = None\n",
    "            if max_iter > 0 and k > max_iter:\n",
    "                stop_msg = \"Maximum number of iterations has been exceeded.\"\n",
    "            elif np.all(T < T_fire):\n",
    "                stop_msg = f\"T < T_fire everywhere.\"\n",
    "                \n",
    "            if stop_msg is not None:\n",
    "                print(f\"Stopping simulation at {k=} ({t=:.2f}).\", stop_msg)\n",
    "                break\n",
    "                \n",
    "    def _advance_simulation(self, state: SimulationState):\n",
    "        # raccourcis\n",
    "        back = slice(None, -2)\n",
    "        mid =  slice(1, -1)\n",
    "        front = slice(2, None)\n",
    "        T = state.T\n",
    "        c = state.c\n",
    "        T_mid = T[mid,mid]\n",
    "        u_mid = self.forest.u[mid,mid]\n",
    "        v_mid = self.forest.v[mid,mid]\n",
    "        on_fire = T > T_fire\n",
    "\n",
    "        # calcul des dérivées\n",
    "        Tx_back = (T_mid - T[back,mid]) / dx\n",
    "        Tx_front = (T[front,mid] - T_mid) / dx\n",
    "        Ty_back = (T_mid - T[mid,back]) / dy\n",
    "        Ty_front = (T[mid,front] - T_mid) / dy\n",
    "        Txx = (Tx_front - Tx_back) / dx\n",
    "        Tyy = (Ty_front - Ty_back) / dy\n",
    "\n",
    "        # laplacien, advection, reaction\n",
    "        diffusion = mu * (Txx + Tyy)\n",
    "\n",
    "        Tx_upwind = Tx_front\n",
    "        Tx_upwind[u_mid > 0] = Tx_back[u_mid > 0]\n",
    "        Ty_upwind = Ty_front\n",
    "        Ty_upwind[v_mid > 0] = Ty_back[v_mid > 0]\n",
    "        advection = -(Tx_upwind * u_mid + Ty_upwind * v_mid)\n",
    "\n",
    "        reaction_fire = np.zeros(T.shape)\n",
    "        reaction_fire[np.logical_and(on_fire, c >= 0)] = 10\n",
    "        reaction_fire[np.logical_and(on_fire, c < 0)] = -5\n",
    "\n",
    "        # mise à jour\n",
    "        T_mid += dt * ((diffusion + advection) + (reaction_fire * T)[mid,mid])\n",
    "        c[on_fire] += dt * -100\n",
    "\n",
    "        # condition de neumann au bord\n",
    "        T[:,0] = T[:,1]\n",
    "        T[:,-1] = T[:,-2]\n",
    "        T[0,:] = T[1,:]\n",
    "        T[-1,:] = T[-2,:]\n",
    "    \n",
    "    def visualize(self, title: str = \"\"):\n",
    "        for frame_k, state in enumerate(self.history):\n",
    "            %matplotlib inline\n",
    "            fuel = plt.pcolormesh(state.X, state.Y, state.c, cmap=plt.cm.YlGn, vmin=0, vmax=10)\n",
    "            fuel_cb = plt.colorbar(fuel)\n",
    "            fuel_cb.set_label(\"fuel\", loc=\"top\")\n",
    "\n",
    "            fire = plt.pcolormesh(state.X, state.Y, np.ma.masked_where(np.abs(state.T) < T_fire, state.T), cmap=plt.cm.hot, vmin=0, vmax=5)\n",
    "            fire_cb = plt.colorbar(fire)\n",
    "            fire_cb.set_label(\"fire\", loc=\"top\")\n",
    "\n",
    "            n_arrows = 6\n",
    "            wind_ind = np.zeros(self.X.shape, dtype=bool)\n",
    "            wind_ind[::len(state.X) // n_arrows, ::len(state.X) // n_arrows] = True\n",
    "            plt.quiver(state.X[wind_ind], state.Y[wind_ind], state.u[wind_ind], state.v[wind_ind])\n",
    "\n",
    "            # TODO: afficher l'avancement\n",
    "            t = frame_k * round(self.tf / self.forest.dt)\n",
    "            pct = frame_k / len(self.history)\n",
    "            plt.title(title)\n",
    "            plt.xlabel(\"x\")\n",
    "            plt.ylabel(\"y\")\n",
    "            clear_output(wait=True)\n",
    "            plt.show()       "
   ]
  },
  {
   "cell_type": "code",
   "execution_count": 12,
   "metadata": {
    "execution": {
     "iopub.execute_input": "2021-10-21T17:34:31.425760Z",
     "iopub.status.busy": "2021-10-21T17:34:31.425760Z",
     "iopub.status.idle": "2021-10-21T17:34:32.029280Z",
     "shell.execute_reply": "2021-10-21T17:34:32.029280Z",
     "shell.execute_reply.started": "2021-10-21T17:34:31.425760Z"
    },
    "tags": []
   },
   "outputs": [
    {
     "ename": "NameError",
     "evalue": "name 'Forest' is not defined",
     "output_type": "error",
     "traceback": [
      "\u001b[1;31m---------------------------------------------------------------------------\u001b[0m",
      "\u001b[1;31mNameError\u001b[0m                                 Traceback (most recent call last)",
      "\u001b[1;32m~\\AppData\\Local\\Temp/ipykernel_15908/3831252518.py\u001b[0m in \u001b[0;36m<module>\u001b[1;34m\u001b[0m\n\u001b[0;32m     29\u001b[0m \u001b[1;33m\u001b[0m\u001b[0m\n\u001b[0;32m     30\u001b[0m \u001b[1;33m@\u001b[0m\u001b[0mdataclass\u001b[0m\u001b[1;33m\u001b[0m\u001b[1;33m\u001b[0m\u001b[0m\n\u001b[1;32m---> 31\u001b[1;33m \u001b[1;32mclass\u001b[0m \u001b[0mForest\u001b[0m\u001b[1;33m:\u001b[0m\u001b[1;33m\u001b[0m\u001b[1;33m\u001b[0m\u001b[0m\n\u001b[0m\u001b[0;32m     32\u001b[0m     \u001b[0mN\u001b[0m\u001b[1;33m:\u001b[0m \u001b[0mint\u001b[0m\u001b[1;33m\u001b[0m\u001b[1;33m\u001b[0m\u001b[0m\n\u001b[0;32m     33\u001b[0m     \u001b[0mdx\u001b[0m\u001b[1;33m:\u001b[0m \u001b[0mfloat\u001b[0m\u001b[1;33m\u001b[0m\u001b[1;33m\u001b[0m\u001b[0m\n",
      "\u001b[1;32m~\\AppData\\Local\\Temp/ipykernel_15908/3831252518.py\u001b[0m in \u001b[0;36mForest\u001b[1;34m()\u001b[0m\n\u001b[0;32m     38\u001b[0m     \u001b[0mmu\u001b[0m\u001b[1;33m:\u001b[0m \u001b[0mfloat\u001b[0m\u001b[1;33m\u001b[0m\u001b[1;33m\u001b[0m\u001b[0m\n\u001b[0;32m     39\u001b[0m \u001b[1;33m\u001b[0m\u001b[0m\n\u001b[1;32m---> 40\u001b[1;33m     \u001b[1;32mdef\u001b[0m \u001b[0mcreate_forest\u001b[0m\u001b[1;33m(\u001b[0m\u001b[0mN\u001b[0m\u001b[1;33m:\u001b[0m \u001b[0mint\u001b[0m\u001b[1;33m,\u001b[0m \u001b[0mx0\u001b[0m\u001b[1;33m:\u001b[0m \u001b[0mfloat\u001b[0m\u001b[1;33m,\u001b[0m \u001b[0my0\u001b[0m\u001b[1;33m:\u001b[0m \u001b[0mfloat\u001b[0m\u001b[1;33m,\u001b[0m \u001b[0mr0\u001b[0m\u001b[1;33m:\u001b[0m \u001b[0mfloat\u001b[0m\u001b[1;33m,\u001b[0m \u001b[0mT_fire\u001b[0m\u001b[1;33m:\u001b[0m \u001b[0mfloat\u001b[0m\u001b[1;33m,\u001b[0m \u001b[0mmu\u001b[0m\u001b[1;33m:\u001b[0m \u001b[0mfloat\u001b[0m\u001b[1;33m,\u001b[0m \u001b[0mseed\u001b[0m\u001b[1;33m:\u001b[0m \u001b[0mint\u001b[0m \u001b[1;33m=\u001b[0m \u001b[1;32mNone\u001b[0m\u001b[1;33m)\u001b[0m \u001b[1;33m->\u001b[0m \u001b[0mForest\u001b[0m\u001b[1;33m:\u001b[0m\u001b[1;33m\u001b[0m\u001b[1;33m\u001b[0m\u001b[0m\n\u001b[0m\u001b[0;32m     41\u001b[0m         \u001b[0mx\u001b[0m\u001b[1;33m,\u001b[0m \u001b[0mdx\u001b[0m \u001b[1;33m=\u001b[0m \u001b[0mnp\u001b[0m\u001b[1;33m.\u001b[0m\u001b[0mlinspace\u001b[0m\u001b[1;33m(\u001b[0m\u001b[1;36m0\u001b[0m\u001b[1;33m,\u001b[0m \u001b[1;36m1\u001b[0m\u001b[1;33m,\u001b[0m \u001b[0mN\u001b[0m\u001b[1;33m,\u001b[0m \u001b[0mretstep\u001b[0m\u001b[1;33m=\u001b[0m\u001b[1;32mTrue\u001b[0m\u001b[1;33m)\u001b[0m\u001b[1;33m\u001b[0m\u001b[1;33m\u001b[0m\u001b[0m\n\u001b[0;32m     42\u001b[0m         \u001b[0mX\u001b[0m\u001b[1;33m,\u001b[0m \u001b[0mY\u001b[0m \u001b[1;33m=\u001b[0m \u001b[0mnp\u001b[0m\u001b[1;33m.\u001b[0m\u001b[0mmeshgrid\u001b[0m\u001b[1;33m(\u001b[0m\u001b[0mx\u001b[0m\u001b[1;33m,\u001b[0m \u001b[0my\u001b[0m\u001b[1;33m,\u001b[0m \u001b[0mindexing\u001b[0m\u001b[1;33m=\u001b[0m\u001b[1;34m\"ij\"\u001b[0m\u001b[1;33m)\u001b[0m\u001b[1;33m\u001b[0m\u001b[1;33m\u001b[0m\u001b[0m\n",
      "\u001b[1;31mNameError\u001b[0m: name 'Forest' is not defined"
     ]
    }
   ],
   "source": [
    "def timestep(T, c, u, v, dx, dy, dt) -> \"T, c\":\n",
    "    \"\"\"update the variables\"\"\"\n",
    "    T, c = T.copy(), c.copy()\n",
    "    back = slice(None, -2)\n",
    "    mid =  slice(1, -1)\n",
    "    front = slice(2, None)\n",
    "    u_mid, v_mid = u[mid,mid], v[mid,mid]\n",
    "    T_mid = T[mid,mid]\n",
    "    on_fire = T > T_fire\n",
    "    \n",
    "    # calcul des dérivées\n",
    "    Tx_back = (T_mid - T[back,mid]) / dx\n",
    "    Tx_front = (T[front,mid] - T_mid) / dx\n",
    "    Ty_back = (T_mid - T[mid,back]) / dy\n",
    "    Ty_front = (T[mid,front] - T_mid) / dy\n",
    "    Txx = (Tx_front - Tx_back) / dx\n",
    "    Tyy = (Ty_front - Ty_back) / dy\n",
    "    \n",
    "    # laplacien, advection, reaction\n",
    "    diffusion = mu * (Txx + Tyy)\n",
    "    \n",
    "    Tx_upwind = Tx_front\n",
    "    Tx_upwind[u_mid > 0] = Tx_back[u_mid > 0]\n",
    "    Ty_upwind = Ty_front\n",
    "    Ty_upwind[v_mid > 0] = Ty_back[v_mid > 0]\n",
    "    advection = -(Tx_upwind * u_mid + Ty_upwind * v_mid)\n",
    "    \n",
    "    reaction_fire = np.zeros(T.shape)\n",
    "    reaction_fire[np.logical_and(on_fire, c >= 0)] = 10\n",
    "    reaction_fire[np.logical_and(on_fire, c < 0)] = -5\n",
    "    \n",
    "    # mise à jour de la température\n",
    "    T_mid += dt * ((diffusion + advection) + (reaction_fire * T)[mid,mid])\n",
    "    c[on_fire] += dt * -100\n",
    "    \n",
    "    # condition de neumann au bord\n",
    "    T[:,0] = T[:,1]\n",
    "    T[:,-1] = T[:,-2]\n",
    "    T[0,:] = T[1,:]\n",
    "    T[-1,:] = T[-2,:]\n",
    "\n",
    "    return T, c\n",
    "\n",
    "    \n",
    "def solve(X, Y, dx, dy, dt, T, c, u, v, max_iter=1e4, viz_every=False) -> \"T, c\":\n",
    "    \"\"\"solve the PDEs, inplace\n",
    "    if max_iter <= 0, there is no maximum iteration\n",
    "    if viz_every <= 0, there is no visualization\n",
    "    \"\"\"\n",
    "    for k, t in enumerate(np.arange(dt, tf + dt, dt)):\n",
    "        T, c = timestep(T, c, u, v, dx, dy, dt)\n",
    "        \n",
    "        if viz_every > 0 and k % viz_every == 0:\n",
    "            viz(X, Y, T, c, u, v, f\"{t=:.2f}, {k=}\\n{100 * t/tf:.1f}%\")\n",
    "        \n",
    "        if max_iter > 0 and k > max_iter:\n",
    "            print(f\"{max_iter=} surpassed, stopping\")\n",
    "            break\n",
    "    return T, c"
   ]
  },
  {
   "cell_type": "code",
   "execution_count": null,
   "metadata": {
    "execution": {
     "iopub.status.busy": "2021-10-21T17:34:32.029280Z",
     "iopub.status.idle": "2021-10-21T17:34:32.029280Z",
     "shell.execute_reply": "2021-10-21T17:34:32.029280Z",
     "shell.execute_reply.started": "2021-10-21T17:34:32.029280Z"
    },
    "tags": []
   },
   "outputs": [],
   "source": [
    "init_state = X, Y, dx, dy, dt, T, c, u, v = init(N, x0, y0, r0)\n",
    "\n",
    "viz(X, Y, T, c, u, v, \"initialisation\")"
   ]
  },
  {
   "cell_type": "code",
   "execution_count": null,
   "metadata": {
    "execution": {
     "iopub.status.busy": "2021-10-21T17:34:32.029280Z",
     "iopub.status.idle": "2021-10-21T17:34:32.029280Z",
     "shell.execute_reply": "2021-10-21T17:34:32.029280Z",
     "shell.execute_reply.started": "2021-10-21T17:34:32.029280Z"
    },
    "tags": []
   },
   "outputs": [],
   "source": [
    "#%lprun -u 1e-6 -f timestep solve(*init_state, max_iter=False)\n",
    "solve(*init_state, viz_every=50);"
   ]
  },
  {
   "cell_type": "markdown",
   "metadata": {},
   "source": [
    "# Optimization"
   ]
  },
  {
   "cell_type": "code",
   "execution_count": null,
   "metadata": {
    "execution": {
     "iopub.status.busy": "2021-10-21T17:34:32.037479Z",
     "iopub.status.idle": "2021-10-21T17:34:32.037479Z",
     "shell.execute_reply": "2021-10-21T17:34:32.037479Z",
     "shell.execute_reply.started": "2021-10-21T17:34:32.037479Z"
    },
    "tags": []
   },
   "outputs": [],
   "source": [
    "params = {\n",
    "    \"N\": 100,\n",
    "    \"x0\": .1,\n",
    "    \"y0\": .1,\n",
    "    \"r0\": .05\n",
    "}\n",
    "\n",
    "\n",
    "def cut_trees(X, Y, c, x, replace_with) -> \"c\":\n",
    "    c = c.copy()\n",
    "    c[rect(X, Y, *x)] = replace_with\n",
    "    return c\n",
    "\n",
    "def f_c(x):\n",
    "    xmin, xmax, ymin, ymax = x\n",
    "    \n",
    "    X, Y, dx, dy, dt, T0, c0, u, v = init(**params)\n",
    "    c0 = cut_trees(X, Y, c0, x, replace_with=-1)\n",
    "    T, c = solve(X, Y, dx, dy, dt, T0, c0, u, v)\n",
    "    \n",
    "    init_forest_amount = c0.sum() / params[\"N\"]**2\n",
    "    final_forest_amount = c.sum() / params[\"N\"]**2\n",
    "    \n",
    "    forest_cost = init_forest_amount - final_forest_amount\n",
    "    area_cost = abs(xmax - xmin) * abs(ymax - ymin)\n",
    "    position_cost = max(0, .2 - ymin)\n",
    "    \n",
    "    return forest_cost + 10 * area_cost + 100 * position_cost"
   ]
  },
  {
   "cell_type": "code",
   "execution_count": null,
   "metadata": {
    "execution": {
     "iopub.status.busy": "2021-10-21T17:34:32.039480Z",
     "iopub.status.idle": "2021-10-21T17:34:32.040485Z",
     "shell.execute_reply": "2021-10-21T17:34:32.040485Z",
     "shell.execute_reply.started": "2021-10-21T17:34:32.040485Z"
    },
    "tags": []
   },
   "outputs": [],
   "source": [
    "x = [.2, .4, .2, .4]\n",
    "f_c(x)"
   ]
  }
 ],
 "metadata": {
  "kernelspec": {
   "display_name": "Python [conda env:ConceptOpt]",
   "language": "python",
   "name": "conda-env-ConceptOpt-py"
  },
  "language_info": {
   "codemirror_mode": {
    "name": "ipython",
    "version": 3
   },
   "file_extension": ".py",
   "mimetype": "text/x-python",
   "name": "python",
   "nbconvert_exporter": "python",
   "pygments_lexer": "ipython3",
   "version": "3.8.12"
  }
 },
 "nbformat": 4,
 "nbformat_minor": 4
}
