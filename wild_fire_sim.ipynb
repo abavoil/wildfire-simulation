{
 "cells": [
  {
   "cell_type": "markdown",
   "metadata": {},
   "source": [
    "# TODO:\n",
    "\n",
    "## object oriented\n",
    "  - simulation (N, x0, y0, r0, T_fire, min_fuel, max_fuel, mu, tf, T_init_fire), method simulate\n",
    "  - state (X, Y, dx, dy, dt, T, c, u, v), method visualize, défricher(x)\n",
    "  \n",
    "  \n",
    "```\n",
    "état: initialiser(params état initial)\n",
    "état: couper la forêt\n",
    "simulation: initialiser(état initial, paramètres simulation)\n",
    "simulation: simuler()\n",
    "simulation: observe (donne integrale de c) (OU simulation: visualizer)\n",
    "```\n",
    "\n",
    "f_c(x, params):\n",
    "    sim = Simulation(params)"
   ]
  },
  {
   "cell_type": "code",
   "execution_count": 1,
   "metadata": {
    "execution": {
     "iopub.execute_input": "2021-10-21T18:12:40.698685Z",
     "iopub.status.busy": "2021-10-21T18:12:40.698685Z",
     "iopub.status.idle": "2021-10-21T18:12:41.376613Z",
     "shell.execute_reply": "2021-10-21T18:12:41.376613Z",
     "shell.execute_reply.started": "2021-10-21T18:12:40.698685Z"
    },
    "tags": []
   },
   "outputs": [],
   "source": [
    "%load_ext snakeviz\n",
    "%load_ext line_profiler\n",
    "\n",
    "from dataclasses import dataclass, field, InitVar\n",
    "from typing import List\n",
    "from copy import deepcopy\n",
    "\n",
    "from IPython.display import clear_output\n",
    "import numpy as np\n",
    "import matplotlib as mpl\n",
    "from matplotlib import pyplot as plt"
   ]
  },
  {
   "cell_type": "code",
   "execution_count": 2,
   "metadata": {
    "execution": {
     "iopub.execute_input": "2021-10-21T18:12:41.376613Z",
     "iopub.status.busy": "2021-10-21T18:12:41.376613Z",
     "iopub.status.idle": "2021-10-21T18:12:41.394234Z",
     "shell.execute_reply": "2021-10-21T18:12:41.392279Z",
     "shell.execute_reply.started": "2021-10-21T18:12:41.376613Z"
    },
    "tags": []
   },
   "outputs": [],
   "source": [
    "mpl.rcParams[\"pcolor.shading\"] = \"nearest\""
   ]
  },
  {
   "cell_type": "markdown",
   "metadata": {},
   "source": [
    "# Simulation"
   ]
  },
  {
   "cell_type": "code",
   "execution_count": 3,
   "metadata": {
    "execution": {
     "iopub.execute_input": "2021-10-21T18:12:41.396236Z",
     "iopub.status.busy": "2021-10-21T18:12:41.396236Z",
     "iopub.status.idle": "2021-10-21T18:12:41.426236Z",
     "shell.execute_reply": "2021-10-21T18:12:41.424276Z",
     "shell.execute_reply.started": "2021-10-21T18:12:41.396236Z"
    },
    "tags": []
   },
   "outputs": [],
   "source": [
    "def disk(X, Y, x, y, r):\n",
    "    return (X - x)**2 + (Y - y)**2 <= r**2\n",
    "\n",
    "\n",
    "def rect(X, Y, xmin, xmax, ymin, ymax):\n",
    "    return np.logical_and.reduce((xmin < X, X < xmax, ymin < Y, Y < ymax))\n",
    "\n",
    "\n",
    "def viz(X, Y, T, c, u, v, title=\"\"):\n",
    "    %matplotlib inline\n",
    "    fuel = plt.pcolormesh(X, Y, c, cmap=plt.cm.YlGn, vmin=0, vmax=10)\n",
    "    fuel_cb = plt.colorbar(fuel)\n",
    "    fuel_cb.set_label(\"fuel\", loc=\"top\")\n",
    "    \n",
    "    fire = plt.pcolormesh(X, Y, np.ma.masked_where(np.abs(T) < T_fire, T), cmap=plt.cm.hot, vmin=0, vmax=5)\n",
    "    #fire_boundary = plt.contour(X, Y, T < T_fire, antialiased=False, levels=[.5], colors=\"r\")\n",
    "    fire_cb = plt.colorbar(fire)\n",
    "    fire_cb.set_label(\"fire\", loc=\"top\")\n",
    "    \n",
    "    n_arrows = 6\n",
    "    wind_ind = np.zeros(X.shape, dtype=bool)\n",
    "    wind_ind[::len(X) // n_arrows, ::len(X) // n_arrows] = True\n",
    "    plt.quiver(X[wind_ind], Y[wind_ind], u[wind_ind], v[wind_ind])\n",
    "    \n",
    "    plt.title(title)\n",
    "    plt.xlabel(\"x\")\n",
    "    plt.ylabel(\"y\")\n",
    "    clear_output(wait=True)\n",
    "    plt.show()"
   ]
  },
  {
   "cell_type": "code",
   "execution_count": 4,
   "metadata": {
    "execution": {
     "iopub.execute_input": "2021-10-21T18:12:41.429250Z",
     "iopub.status.busy": "2021-10-21T18:12:41.429250Z",
     "iopub.status.idle": "2021-10-21T18:12:41.442234Z",
     "shell.execute_reply": "2021-10-21T18:12:41.440233Z",
     "shell.execute_reply.started": "2021-10-21T18:12:41.429250Z"
    },
    "tags": []
   },
   "outputs": [],
   "source": [
    "# paramètres physique\n",
    "T_fire = .05\n",
    "min_fuel, max_fuel = 0, 10\n",
    "mu = 5e-3\n",
    "\n",
    "tf = 1.8  # temps final"
   ]
  },
  {
   "cell_type": "code",
   "execution_count": 5,
   "metadata": {
    "execution": {
     "iopub.execute_input": "2021-10-21T18:12:41.443237Z",
     "iopub.status.busy": "2021-10-21T18:12:41.443237Z",
     "iopub.status.idle": "2021-10-21T18:12:41.458236Z",
     "shell.execute_reply": "2021-10-21T18:12:41.456264Z",
     "shell.execute_reply.started": "2021-10-21T18:12:41.443237Z"
    },
    "tags": []
   },
   "outputs": [],
   "source": [
    "# paramètres de l'état initial\n",
    "N = 201\n",
    "x0 = y0 = .1\n",
    "r0 = .05\n",
    "T_init_fire = 5"
   ]
  },
  {
   "cell_type": "markdown",
   "metadata": {},
   "source": [
    "Champs scalaires :\n",
    " - T : température\n",
    " - c : combustible\n",
    " - b : brulé (booléen)\n",
    " \n",
    "Champ vectoriel:\n",
    " - V : vent"
   ]
  },
  {
   "cell_type": "code",
   "execution_count": 6,
   "metadata": {
    "execution": {
     "iopub.execute_input": "2021-10-21T18:12:41.459236Z",
     "iopub.status.busy": "2021-10-21T18:12:41.459236Z",
     "iopub.status.idle": "2021-10-21T18:12:41.489239Z",
     "shell.execute_reply": "2021-10-21T18:12:41.488279Z",
     "shell.execute_reply.started": "2021-10-21T18:12:41.459236Z"
    },
    "tags": []
   },
   "outputs": [],
   "source": [
    "def init(N: int, x0: float, y0: float, r0: float) -> \"X, Y, dx, dy, dt, T, c, u, v\":\n",
    "    \"\"\"make the variables at t=0\"\"\"\n",
    "    np.random.seed(0)\n",
    "    x, dx = y, dy = np.linspace(0, 1, N, retstep=True)\n",
    "    X, Y = np.meshgrid(x, y, indexing=\"ij\")\n",
    "\n",
    "    T = np.zeros(X.shape)\n",
    "    T[disk(X, Y, x0, y0, r0)] = T_init_fire\n",
    "\n",
    "    c = np.full(X.shape, 5.)\n",
    "    for i in range(5):\n",
    "        rr = np.random.uniform(0.1, 0.2)\n",
    "        xr = np.random.uniform(0.1, 0.9)\n",
    "        yr = np.random.uniform(0.1, 0.9)\n",
    "        valr = np.random.uniform(-5, 5)\n",
    "\n",
    "        c[disk(X, Y, xr, yr, rr)] = valr + c[disk(X, Y, xr, yr, rr)]\n",
    "    c = np.clip(c, min_fuel, max_fuel)\n",
    "\n",
    "    u = np.cos(np.pi * Y)\n",
    "    v = 0.6 * np.sin(np.pi / 2 * (X + 0.2))\n",
    "    \n",
    "    dt_c = min(dx, dy) / np.sqrt(u*u + v*v).max()\n",
    "    dt_d = 1/2 * min(dx, dy)**2 / mu\n",
    "    dt = min(dt_c, dt_d) / 4\n",
    "    \n",
    "    return X, Y, dx, dy, dt, T, c, u, v"
   ]
  },
  {
   "cell_type": "code",
   "execution_count": 7,
   "metadata": {
    "execution": {
     "iopub.execute_input": "2021-10-21T18:12:41.491245Z",
     "iopub.status.busy": "2021-10-21T18:12:41.491245Z",
     "iopub.status.idle": "2021-10-21T18:12:41.521233Z",
     "shell.execute_reply": "2021-10-21T18:12:41.520274Z",
     "shell.execute_reply.started": "2021-10-21T18:12:41.491245Z"
    },
    "tags": []
   },
   "outputs": [],
   "source": [
    "def timestep(T, c, u, v, dx, dy, dt) -> \"T, c\":\n",
    "    \"\"\"update the variables\"\"\"\n",
    "    T, c = T.copy(), c.copy()\n",
    "    back = slice(None, -2)\n",
    "    mid =  slice(1, -1)\n",
    "    front = slice(2, None)\n",
    "    u_mid, v_mid = u[mid,mid], v[mid,mid]\n",
    "    T_mid = T[mid,mid]\n",
    "    on_fire = T > T_fire\n",
    "    \n",
    "    # calcul des dérivées\n",
    "    Tx_back = (T_mid - T[back,mid]) / dx\n",
    "    Tx_front = (T[front,mid] - T_mid) / dx\n",
    "    Ty_back = (T_mid - T[mid,back]) / dy\n",
    "    Ty_front = (T[mid,front] - T_mid) / dy\n",
    "    Txx = (Tx_front - Tx_back) / dx\n",
    "    Tyy = (Ty_front - Ty_back) / dy\n",
    "    \n",
    "    # laplacien, advection, reaction\n",
    "    diffusion = mu * (Txx + Tyy)\n",
    "    \n",
    "    Tx_upwind = Tx_front\n",
    "    Tx_upwind[u_mid > 0] = Tx_back[u_mid > 0]\n",
    "    Ty_upwind = Ty_front\n",
    "    Ty_upwind[v_mid > 0] = Ty_back[v_mid > 0]\n",
    "    advection = -(Tx_upwind * u_mid + Ty_upwind * v_mid)\n",
    "    \n",
    "    reaction_fire = np.zeros(T.shape)\n",
    "    reaction_fire[np.logical_and(on_fire, c >= 0)] = 10\n",
    "    reaction_fire[np.logical_and(on_fire, c < 0)] = -5\n",
    "    \n",
    "    # mise à jour de la température\n",
    "    T_mid += dt * ((diffusion + advection) + (reaction_fire * T)[mid,mid])\n",
    "    c[on_fire] += dt * -100\n",
    "    \n",
    "    # condition de neumann au bord\n",
    "    T[:,0] = T[:,1]\n",
    "    T[:,-1] = T[:,-2]\n",
    "    T[0,:] = T[1,:]\n",
    "    T[-1,:] = T[-2,:]\n",
    "\n",
    "    return T, c\n",
    "\n",
    "    \n",
    "def solve(X, Y, dx, dy, dt, T, c, u, v, max_iter=1e4, viz_every=False) -> \"T, c\":\n",
    "    \"\"\"solve the PDEs, inplace\n",
    "    if max_iter <= 0, there is no maximum iteration\n",
    "    if viz_every <= 0, there is no visualization\n",
    "    \"\"\"\n",
    "    for k, t in enumerate(np.arange(dt, tf + dt, dt)):\n",
    "        T, c = timestep(T, c, u, v, dx, dy, dt)\n",
    "        \n",
    "        if viz_every > 0 and k % viz_every == 0:\n",
    "            viz(X, Y, T, c, u, v, f\"{t=:.2f}, {k=}\\n{100 * t/tf:.1f}%\")\n",
    "        \n",
    "        if max_iter > 0 and k > max_iter:\n",
    "            print(f\"{max_iter=} surpassed, stopping\")\n",
    "            break\n",
    "    return T, c"
   ]
  },
  {
   "cell_type": "code",
   "execution_count": 8,
   "metadata": {
    "execution": {
     "iopub.execute_input": "2021-10-21T18:12:41.523237Z",
     "iopub.status.busy": "2021-10-21T18:12:41.522232Z",
     "iopub.status.idle": "2021-10-21T18:12:41.995310Z",
     "shell.execute_reply": "2021-10-21T18:12:41.994107Z",
     "shell.execute_reply.started": "2021-10-21T18:12:41.523237Z"
    },
    "tags": []
   },
   "outputs": [
    {
     "data": {
      "image/png": "[encoded data removed]",
      "text/plain": [
       "<Figure size 432x288 with 3 Axes>"
      ]
     },
     "metadata": {
      "needs_background": "light"
     },
     "output_type": "display_data"
    }
   ],
   "source": [
    "init_state = X, Y, dx, dy, dt, T, c, u, v = init(N, x0, y0, r0)\n",
    "\n",
    "viz(X, Y, T, c, u, v, \"initialisation\")"
   ]
  },
  {
   "cell_type": "code",
   "execution_count": 9,
   "metadata": {
    "execution": {
     "iopub.execute_input": "2021-10-21T18:12:41.997318Z",
     "iopub.status.busy": "2021-10-21T18:12:41.996313Z",
     "iopub.status.idle": "2021-10-21T18:13:13.446617Z",
     "shell.execute_reply": "2021-10-21T18:13:13.444921Z",
     "shell.execute_reply.started": "2021-10-21T18:12:41.997318Z"
    },
    "tags": []
   },
   "outputs": [
    {
     "data": {
      "image/png": "[encoded data removed]",
      "text/plain": [
       "<Figure size 432x288 with 3 Axes>"
      ]
     },
     "metadata": {
      "needs_background": "light"
     },
     "output_type": "display_data"
    }
   ],
   "source": [
    "#%lprun -u 1e-6 -f timestep solve(*init_state, max_iter=False)\n",
    "solve(*init_state, viz_every=50);"
   ]
  },
  {
   "cell_type": "markdown",
   "metadata": {},
   "source": [
    "# Optimization"
   ]
  },
  {
   "cell_type": "code",
   "execution_count": 10,
   "metadata": {
    "execution": {
     "iopub.execute_input": "2021-10-21T18:13:13.449619Z",
     "iopub.status.busy": "2021-10-21T18:13:13.448620Z",
     "iopub.status.idle": "2021-10-21T18:13:13.461625Z",
     "shell.execute_reply": "2021-10-21T18:13:13.460892Z",
     "shell.execute_reply.started": "2021-10-21T18:13:13.449619Z"
    },
    "tags": []
   },
   "outputs": [],
   "source": [
    "params = {\n",
    "    \"N\": 100,\n",
    "    \"x0\": .1,\n",
    "    \"y0\": .1,\n",
    "    \"r0\": .05\n",
    "}\n",
    "\n",
    "\n",
    "def cut_trees(X, Y, c, x, replace_with) -> \"c\":\n",
    "    c = c.copy()\n",
    "    c[rect(X, Y, *x)] = replace_with\n",
    "    return c\n",
    "\n",
    "def f_c(x):\n",
    "    xmin, xmax, ymin, ymax = x\n",
    "    \n",
    "    X, Y, dx, dy, dt, T0, c0, u, v = init(**params)\n",
    "    c0 = cut_trees(X, Y, c0, x, replace_with=-1)\n",
    "    T, c = solve(X, Y, dx, dy, dt, T0, c0, u, v)\n",
    "    \n",
    "    init_forest_amount = c0.sum() / params[\"N\"]**2\n",
    "    final_forest_amount = c.sum() / params[\"N\"]**2\n",
    "    \n",
    "    forest_cost = init_forest_amount - final_forest_amount\n",
    "    area_cost = abs(xmax - xmin) * abs(ymax - ymin)\n",
    "    position_cost = max(0, .2 - ymin)\n",
    "    \n",
    "    return forest_cost + 10 * area_cost + 100 * position_cost"
   ]
  },
  {
   "cell_type": "code",
   "execution_count": 11,
   "metadata": {
    "execution": {
     "iopub.execute_input": "2021-10-21T18:13:13.463656Z",
     "iopub.status.busy": "2021-10-21T18:13:13.463656Z",
     "iopub.status.idle": "2021-10-21T18:13:13.853019Z",
     "shell.execute_reply": "2021-10-21T18:13:13.852219Z",
     "shell.execute_reply.started": "2021-10-21T18:13:13.463656Z"
    },
    "tags": []
   },
   "outputs": [
    {
     "data": {
      "text/plain": [
       "17.956021743922665"
      ]
     },
     "execution_count": 11,
     "metadata": {},
     "output_type": "execute_result"
    }
   ],
   "source": [
    "x = [.2, .4, .2, .4]\n",
    "f_c(x)"
   ]
  }
 ],
 "metadata": {
  "kernelspec": {
   "display_name": "Python [conda env:ConceptOpt]",
   "language": "python",
   "name": "conda-env-ConceptOpt-py"
  },
  "language_info": {
   "codemirror_mode": {
    "name": "ipython",
    "version": 3
   },
   "file_extension": ".py",
   "mimetype": "text/x-python",
   "name": "python",
   "nbconvert_exporter": "python",
   "pygments_lexer": "ipython3",
   "version": "3.8.12"
  }
 },
 "nbformat": 4,
 "nbformat_minor": 4
}
